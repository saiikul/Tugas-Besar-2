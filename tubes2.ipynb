{
 "cells": [
  {
   "cell_type": "code",
   "execution_count": 1,
   "metadata": {},
   "outputs": [],
   "source": [
    "import pandas as pd\n",
    "import matplotlib.pyplot as plt\n",
    "data = pd.read_csv(\"billionaires_dataset.csv\")"
   ]
  },
  {
   "cell_type": "code",
   "execution_count": 2,
   "metadata": {},
   "outputs": [
    {
     "name": "stdout",
     "output_type": "stream",
     "text": [
      "Dimensi datasset: 2640 baris x 35 kolom\n"
     ]
    }
   ],
   "source": [
    "print(f\"Dimensi datasset: {len(data)} baris x {len(data.columns)} kolom\")"
   ]
  },
  {
   "cell_type": "code",
   "execution_count": 3,
   "metadata": {},
   "outputs": [
    {
     "name": "stdout",
     "output_type": "stream",
     "text": [
      "Nama-nama kolom pada dataset: \n",
      "1. rank (int64)\n",
      "2. finalWorth (int64)\n",
      "3. category (object)\n",
      "4. personName (object)\n",
      "5. age (float64)\n",
      "6. country (object)\n",
      "7. city (object)\n",
      "8. source (object)\n",
      "9. industries (object)\n",
      "10. countryOfCitizenship (object)\n",
      "11. organization (object)\n",
      "12. selfMade (bool)\n",
      "13. status (object)\n",
      "14. gender (object)\n",
      "15. birthDate (object)\n",
      "16. lastName (object)\n",
      "17. firstName (object)\n",
      "18. title (object)\n",
      "19. date (object)\n",
      "20. state (object)\n",
      "21. residenceStateRegion (object)\n",
      "22. birthYear (float64)\n",
      "23. birthMonth (float64)\n",
      "24. birthDay (float64)\n",
      "25. cpi_country (float64)\n",
      "26. cpi_change_country (float64)\n",
      "27. gdp_country (object)\n",
      "28. gross_tertiary_education_enrollment (float64)\n",
      "29. gross_primary_education_enrollment_country (float64)\n",
      "30. life_expectancy_country (float64)\n",
      "31. tax_revenue_country_country (float64)\n",
      "32. total_tax_rate_country (float64)\n",
      "33. population_country (float64)\n",
      "34. latitude_country (float64)\n",
      "35. longitude_country (float64)\n"
     ]
    }
   ],
   "source": [
    "print(\"Nama-nama kolom pada dataset: \")\n",
    "kolom = list(data.columns)\n",
    "for index in range(len(kolom)):\n",
    "    print(f\"{index+1}. {kolom[index]} ({data.dtypes[kolom[index]]})\")"
   ]
  }
 ],
 "metadata": {
  "kernelspec": {
   "display_name": "Python 3",
   "language": "python",
   "name": "python3"
  },
  "language_info": {
   "codemirror_mode": {
    "name": "ipython",
    "version": 3
   },
   "file_extension": ".py",
   "mimetype": "text/x-python",
   "name": "python",
   "nbconvert_exporter": "python",
   "pygments_lexer": "ipython3",
   "version": "3.11.4"
  }
 },
 "nbformat": 4,
 "nbformat_minor": 2
}
